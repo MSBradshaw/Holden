{
 "cells": [
  {
   "cell_type": "markdown",
   "metadata": {},
   "source": [
    "# Building Classifiers"
   ]
  },
  {
   "cell_type": "code",
   "execution_count": 1,
   "metadata": {},
   "outputs": [],
   "source": [
    "import Classification_Utils as cu\n",
    "import numpy as np\n",
    "import pandas as pd\n",
    "from sklearn.model_selection import train_test_split\n",
    "from sklearn.preprocessing import MinMaxScaler, StandardScaler"
   ]
  },
  {
   "cell_type": "markdown",
   "metadata": {},
   "source": [
    "## Load and combine data from all tissues"
   ]
  },
  {
   "cell_type": "code",
   "execution_count": 2,
   "metadata": {
    "scrolled": true
   },
   "outputs": [
    {
     "name": "stdout",
     "output_type": "stream",
     "text": [
      "(100, 17157)\n",
      "(100, 17157)\n"
     ]
    }
   ],
   "source": [
    "df = pd.read_csv('../../Data/Distribution-Data-Set/train_cna_distribution.csv')\n",
    "df_test = pd.read_csv('../../Data/Distribution-Data-Set/test_cna_distribution.csv')\n",
    "print(df.shape)\n",
    "print(df_test.shape)"
   ]
  },
  {
   "cell_type": "code",
   "execution_count": 3,
   "metadata": {},
   "outputs": [
    {
     "data": {
      "text/html": [
       "<div>\n",
       "<style scoped>\n",
       "    .dataframe tbody tr th:only-of-type {\n",
       "        vertical-align: middle;\n",
       "    }\n",
       "\n",
       "    .dataframe tbody tr th {\n",
       "        vertical-align: top;\n",
       "    }\n",
       "\n",
       "    .dataframe thead th {\n",
       "        text-align: right;\n",
       "    }\n",
       "</style>\n",
       "<table border=\"1\" class=\"dataframe\">\n",
       "  <thead>\n",
       "    <tr style=\"text-align: right;\">\n",
       "      <th></th>\n",
       "      <th>OR4F5</th>\n",
       "      <th>KLHL17</th>\n",
       "      <th>PLEKHN1</th>\n",
       "      <th>HES4</th>\n",
       "      <th>ISG15</th>\n",
       "      <th>AGRN</th>\n",
       "      <th>RNF223</th>\n",
       "      <th>C1orf159</th>\n",
       "      <th>TTLL10</th>\n",
       "      <th>TNFRSF18</th>\n",
       "      <th>...</th>\n",
       "      <th>NSMF</th>\n",
       "      <th>PNPLA7</th>\n",
       "      <th>MRPL41</th>\n",
       "      <th>DPH7</th>\n",
       "      <th>ZMYND19</th>\n",
       "      <th>ARRDC1</th>\n",
       "      <th>C9orf37</th>\n",
       "      <th>EHMT1</th>\n",
       "      <th>FAM157B</th>\n",
       "      <th>labels</th>\n",
       "    </tr>\n",
       "  </thead>\n",
       "  <tbody>\n",
       "    <tr>\n",
       "      <th>0</th>\n",
       "      <td>0.05</td>\n",
       "      <td>0.05</td>\n",
       "      <td>0.05</td>\n",
       "      <td>0.05</td>\n",
       "      <td>0.05</td>\n",
       "      <td>0.05</td>\n",
       "      <td>0.05</td>\n",
       "      <td>0.05</td>\n",
       "      <td>0.05</td>\n",
       "      <td>0.05</td>\n",
       "      <td>...</td>\n",
       "      <td>0.02</td>\n",
       "      <td>0.02</td>\n",
       "      <td>0.02</td>\n",
       "      <td>0.02</td>\n",
       "      <td>0.02</td>\n",
       "      <td>0.02</td>\n",
       "      <td>0.02</td>\n",
       "      <td>0.02</td>\n",
       "      <td>0.02</td>\n",
       "      <td>real</td>\n",
       "    </tr>\n",
       "    <tr>\n",
       "      <th>1</th>\n",
       "      <td>-0.11</td>\n",
       "      <td>-0.11</td>\n",
       "      <td>-0.11</td>\n",
       "      <td>-0.11</td>\n",
       "      <td>-0.11</td>\n",
       "      <td>-0.11</td>\n",
       "      <td>-0.11</td>\n",
       "      <td>-0.11</td>\n",
       "      <td>-0.11</td>\n",
       "      <td>-0.11</td>\n",
       "      <td>...</td>\n",
       "      <td>-0.12</td>\n",
       "      <td>-0.12</td>\n",
       "      <td>-0.12</td>\n",
       "      <td>-0.12</td>\n",
       "      <td>-0.12</td>\n",
       "      <td>-0.12</td>\n",
       "      <td>-0.12</td>\n",
       "      <td>-0.12</td>\n",
       "      <td>0.19</td>\n",
       "      <td>real</td>\n",
       "    </tr>\n",
       "    <tr>\n",
       "      <th>2</th>\n",
       "      <td>0.17</td>\n",
       "      <td>0.01</td>\n",
       "      <td>0.01</td>\n",
       "      <td>0.01</td>\n",
       "      <td>0.01</td>\n",
       "      <td>0.01</td>\n",
       "      <td>0.01</td>\n",
       "      <td>0.01</td>\n",
       "      <td>0.01</td>\n",
       "      <td>0.01</td>\n",
       "      <td>...</td>\n",
       "      <td>0.01</td>\n",
       "      <td>-0.02</td>\n",
       "      <td>-0.05</td>\n",
       "      <td>-0.05</td>\n",
       "      <td>-0.05</td>\n",
       "      <td>-0.05</td>\n",
       "      <td>-0.05</td>\n",
       "      <td>-0.05</td>\n",
       "      <td>-0.05</td>\n",
       "      <td>real</td>\n",
       "    </tr>\n",
       "    <tr>\n",
       "      <th>3</th>\n",
       "      <td>0.43</td>\n",
       "      <td>0.06</td>\n",
       "      <td>0.06</td>\n",
       "      <td>0.06</td>\n",
       "      <td>0.06</td>\n",
       "      <td>0.06</td>\n",
       "      <td>0.06</td>\n",
       "      <td>0.06</td>\n",
       "      <td>0.06</td>\n",
       "      <td>0.06</td>\n",
       "      <td>...</td>\n",
       "      <td>-0.60</td>\n",
       "      <td>-0.60</td>\n",
       "      <td>-0.60</td>\n",
       "      <td>-0.60</td>\n",
       "      <td>-0.60</td>\n",
       "      <td>-0.60</td>\n",
       "      <td>-0.60</td>\n",
       "      <td>-0.60</td>\n",
       "      <td>-0.41</td>\n",
       "      <td>real</td>\n",
       "    </tr>\n",
       "    <tr>\n",
       "      <th>4</th>\n",
       "      <td>0.03</td>\n",
       "      <td>0.03</td>\n",
       "      <td>0.03</td>\n",
       "      <td>0.03</td>\n",
       "      <td>0.03</td>\n",
       "      <td>0.03</td>\n",
       "      <td>0.03</td>\n",
       "      <td>0.03</td>\n",
       "      <td>0.03</td>\n",
       "      <td>0.03</td>\n",
       "      <td>...</td>\n",
       "      <td>-0.01</td>\n",
       "      <td>-0.01</td>\n",
       "      <td>-0.01</td>\n",
       "      <td>-0.01</td>\n",
       "      <td>-0.01</td>\n",
       "      <td>-0.01</td>\n",
       "      <td>-0.01</td>\n",
       "      <td>-0.01</td>\n",
       "      <td>-0.01</td>\n",
       "      <td>real</td>\n",
       "    </tr>\n",
       "  </tbody>\n",
       "</table>\n",
       "<p>5 rows × 17157 columns</p>\n",
       "</div>"
      ],
      "text/plain": [
       "   OR4F5  KLHL17  PLEKHN1  HES4  ISG15  AGRN  RNF223  C1orf159  TTLL10  \\\n",
       "0   0.05    0.05     0.05  0.05   0.05  0.05    0.05      0.05    0.05   \n",
       "1  -0.11   -0.11    -0.11 -0.11  -0.11 -0.11   -0.11     -0.11   -0.11   \n",
       "2   0.17    0.01     0.01  0.01   0.01  0.01    0.01      0.01    0.01   \n",
       "3   0.43    0.06     0.06  0.06   0.06  0.06    0.06      0.06    0.06   \n",
       "4   0.03    0.03     0.03  0.03   0.03  0.03    0.03      0.03    0.03   \n",
       "\n",
       "   TNFRSF18   ...    NSMF  PNPLA7  MRPL41  DPH7  ZMYND19  ARRDC1  C9orf37  \\\n",
       "0      0.05   ...    0.02    0.02    0.02  0.02     0.02    0.02     0.02   \n",
       "1     -0.11   ...   -0.12   -0.12   -0.12 -0.12    -0.12   -0.12    -0.12   \n",
       "2      0.01   ...    0.01   -0.02   -0.05 -0.05    -0.05   -0.05    -0.05   \n",
       "3      0.06   ...   -0.60   -0.60   -0.60 -0.60    -0.60   -0.60    -0.60   \n",
       "4      0.03   ...   -0.01   -0.01   -0.01 -0.01    -0.01   -0.01    -0.01   \n",
       "\n",
       "   EHMT1  FAM157B  labels  \n",
       "0   0.02     0.02    real  \n",
       "1  -0.12     0.19    real  \n",
       "2  -0.05    -0.05    real  \n",
       "3  -0.60    -0.41    real  \n",
       "4  -0.01    -0.01    real  \n",
       "\n",
       "[5 rows x 17157 columns]"
      ]
     },
     "execution_count": 3,
     "metadata": {},
     "output_type": "execute_result"
    }
   ],
   "source": [
    "df.head()\n",
    "df_test.head()"
   ]
  },
  {
   "cell_type": "markdown",
   "metadata": {},
   "source": [
    "## Map each column to a corresponding label"
   ]
  },
  {
   "cell_type": "code",
   "execution_count": 4,
   "metadata": {},
   "outputs": [
    {
     "data": {
      "text/html": [
       "<div>\n",
       "<style scoped>\n",
       "    .dataframe tbody tr th:only-of-type {\n",
       "        vertical-align: middle;\n",
       "    }\n",
       "\n",
       "    .dataframe tbody tr th {\n",
       "        vertical-align: top;\n",
       "    }\n",
       "\n",
       "    .dataframe thead th {\n",
       "        text-align: right;\n",
       "    }\n",
       "</style>\n",
       "<table border=\"1\" class=\"dataframe\">\n",
       "  <thead>\n",
       "    <tr style=\"text-align: right;\">\n",
       "      <th></th>\n",
       "      <th>OR4F5</th>\n",
       "      <th>KLHL17</th>\n",
       "      <th>PLEKHN1</th>\n",
       "      <th>HES4</th>\n",
       "      <th>ISG15</th>\n",
       "      <th>AGRN</th>\n",
       "      <th>RNF223</th>\n",
       "      <th>C1orf159</th>\n",
       "      <th>TTLL10</th>\n",
       "      <th>TNFRSF18</th>\n",
       "      <th>...</th>\n",
       "      <th>ENTPD8</th>\n",
       "      <th>NSMF</th>\n",
       "      <th>PNPLA7</th>\n",
       "      <th>MRPL41</th>\n",
       "      <th>DPH7</th>\n",
       "      <th>ZMYND19</th>\n",
       "      <th>ARRDC1</th>\n",
       "      <th>C9orf37</th>\n",
       "      <th>EHMT1</th>\n",
       "      <th>FAM157B</th>\n",
       "    </tr>\n",
       "  </thead>\n",
       "  <tbody>\n",
       "    <tr>\n",
       "      <th>0</th>\n",
       "      <td>0.05</td>\n",
       "      <td>0.05</td>\n",
       "      <td>0.05</td>\n",
       "      <td>0.05</td>\n",
       "      <td>0.05</td>\n",
       "      <td>0.05</td>\n",
       "      <td>0.05</td>\n",
       "      <td>0.05</td>\n",
       "      <td>0.05</td>\n",
       "      <td>0.05</td>\n",
       "      <td>...</td>\n",
       "      <td>0.02</td>\n",
       "      <td>0.02</td>\n",
       "      <td>0.02</td>\n",
       "      <td>0.02</td>\n",
       "      <td>0.02</td>\n",
       "      <td>0.02</td>\n",
       "      <td>0.02</td>\n",
       "      <td>0.02</td>\n",
       "      <td>0.02</td>\n",
       "      <td>0.02</td>\n",
       "    </tr>\n",
       "    <tr>\n",
       "      <th>1</th>\n",
       "      <td>-0.11</td>\n",
       "      <td>-0.11</td>\n",
       "      <td>-0.11</td>\n",
       "      <td>-0.11</td>\n",
       "      <td>-0.11</td>\n",
       "      <td>-0.11</td>\n",
       "      <td>-0.11</td>\n",
       "      <td>-0.11</td>\n",
       "      <td>-0.11</td>\n",
       "      <td>-0.11</td>\n",
       "      <td>...</td>\n",
       "      <td>-0.12</td>\n",
       "      <td>-0.12</td>\n",
       "      <td>-0.12</td>\n",
       "      <td>-0.12</td>\n",
       "      <td>-0.12</td>\n",
       "      <td>-0.12</td>\n",
       "      <td>-0.12</td>\n",
       "      <td>-0.12</td>\n",
       "      <td>-0.12</td>\n",
       "      <td>0.19</td>\n",
       "    </tr>\n",
       "    <tr>\n",
       "      <th>2</th>\n",
       "      <td>0.17</td>\n",
       "      <td>0.01</td>\n",
       "      <td>0.01</td>\n",
       "      <td>0.01</td>\n",
       "      <td>0.01</td>\n",
       "      <td>0.01</td>\n",
       "      <td>0.01</td>\n",
       "      <td>0.01</td>\n",
       "      <td>0.01</td>\n",
       "      <td>0.01</td>\n",
       "      <td>...</td>\n",
       "      <td>0.01</td>\n",
       "      <td>0.01</td>\n",
       "      <td>-0.02</td>\n",
       "      <td>-0.05</td>\n",
       "      <td>-0.05</td>\n",
       "      <td>-0.05</td>\n",
       "      <td>-0.05</td>\n",
       "      <td>-0.05</td>\n",
       "      <td>-0.05</td>\n",
       "      <td>-0.05</td>\n",
       "    </tr>\n",
       "    <tr>\n",
       "      <th>3</th>\n",
       "      <td>0.43</td>\n",
       "      <td>0.06</td>\n",
       "      <td>0.06</td>\n",
       "      <td>0.06</td>\n",
       "      <td>0.06</td>\n",
       "      <td>0.06</td>\n",
       "      <td>0.06</td>\n",
       "      <td>0.06</td>\n",
       "      <td>0.06</td>\n",
       "      <td>0.06</td>\n",
       "      <td>...</td>\n",
       "      <td>-0.60</td>\n",
       "      <td>-0.60</td>\n",
       "      <td>-0.60</td>\n",
       "      <td>-0.60</td>\n",
       "      <td>-0.60</td>\n",
       "      <td>-0.60</td>\n",
       "      <td>-0.60</td>\n",
       "      <td>-0.60</td>\n",
       "      <td>-0.60</td>\n",
       "      <td>-0.41</td>\n",
       "    </tr>\n",
       "    <tr>\n",
       "      <th>4</th>\n",
       "      <td>0.03</td>\n",
       "      <td>0.03</td>\n",
       "      <td>0.03</td>\n",
       "      <td>0.03</td>\n",
       "      <td>0.03</td>\n",
       "      <td>0.03</td>\n",
       "      <td>0.03</td>\n",
       "      <td>0.03</td>\n",
       "      <td>0.03</td>\n",
       "      <td>0.03</td>\n",
       "      <td>...</td>\n",
       "      <td>-0.01</td>\n",
       "      <td>-0.01</td>\n",
       "      <td>-0.01</td>\n",
       "      <td>-0.01</td>\n",
       "      <td>-0.01</td>\n",
       "      <td>-0.01</td>\n",
       "      <td>-0.01</td>\n",
       "      <td>-0.01</td>\n",
       "      <td>-0.01</td>\n",
       "      <td>-0.01</td>\n",
       "    </tr>\n",
       "  </tbody>\n",
       "</table>\n",
       "<p>5 rows × 17156 columns</p>\n",
       "</div>"
      ],
      "text/plain": [
       "   OR4F5  KLHL17  PLEKHN1  HES4  ISG15  AGRN  RNF223  C1orf159  TTLL10  \\\n",
       "0   0.05    0.05     0.05  0.05   0.05  0.05    0.05      0.05    0.05   \n",
       "1  -0.11   -0.11    -0.11 -0.11  -0.11 -0.11   -0.11     -0.11   -0.11   \n",
       "2   0.17    0.01     0.01  0.01   0.01  0.01    0.01      0.01    0.01   \n",
       "3   0.43    0.06     0.06  0.06   0.06  0.06    0.06      0.06    0.06   \n",
       "4   0.03    0.03     0.03  0.03   0.03  0.03    0.03      0.03    0.03   \n",
       "\n",
       "   TNFRSF18   ...     ENTPD8  NSMF  PNPLA7  MRPL41  DPH7  ZMYND19  ARRDC1  \\\n",
       "0      0.05   ...       0.02  0.02    0.02    0.02  0.02     0.02    0.02   \n",
       "1     -0.11   ...      -0.12 -0.12   -0.12   -0.12 -0.12    -0.12   -0.12   \n",
       "2      0.01   ...       0.01  0.01   -0.02   -0.05 -0.05    -0.05   -0.05   \n",
       "3      0.06   ...      -0.60 -0.60   -0.60   -0.60 -0.60    -0.60   -0.60   \n",
       "4      0.03   ...      -0.01 -0.01   -0.01   -0.01 -0.01    -0.01   -0.01   \n",
       "\n",
       "   C9orf37  EHMT1  FAM157B  \n",
       "0     0.02   0.02     0.02  \n",
       "1    -0.12  -0.12     0.19  \n",
       "2    -0.05  -0.05    -0.05  \n",
       "3    -0.60  -0.60    -0.41  \n",
       "4    -0.01  -0.01    -0.01  \n",
       "\n",
       "[5 rows x 17156 columns]"
      ]
     },
     "execution_count": 4,
     "metadata": {},
     "output_type": "execute_result"
    }
   ],
   "source": [
    "column_names = df.columns.values.tolist()\n",
    "#seporate labels from the main data\n",
    "labels = df['labels']\n",
    "df = df.drop(columns=['labels'])\n",
    "#impute the NA with 0\n",
    "df = df.fillna(0)\n",
    "\n",
    "labels_test = df_test['labels']\n",
    "df_test = df_test.drop(columns=['labels'])\n",
    "#impute the NA with 0\n",
    "df_test = df_test.fillna(0)\n",
    "\n",
    "df.head()\n",
    "df_test.head()"
   ]
  },
  {
   "cell_type": "markdown",
   "metadata": {},
   "source": [
    "## Make train-test split"
   ]
  },
  {
   "cell_type": "code",
   "execution_count": 5,
   "metadata": {},
   "outputs": [],
   "source": [
    "# train_df, test_df, train_labels, test_labels = train_test_split(\n",
    "#     df, labels, \n",
    "#     test_size=0.00,    # 30% of the data held out in test set\n",
    "#     random_state=0,    # Setting random_state ensures the same train/test split occurs each time this is run\n",
    "#     stratify=labels)   # Maintain ratio of tissues represented in each set\n",
    "\n",
    "# train_features = train_df.columns.values.tolist()"
   ]
  },
  {
   "cell_type": "code",
   "execution_count": 6,
   "metadata": {},
   "outputs": [],
   "source": [
    "# std_scaler = StandardScaler()\n",
    "# train_df = std_scaler.fit_transform(train_df)\n",
    "# test_df = std_scaler.fit_transform(test_df)\n",
    "\n",
    "# min_max_scaler = MinMaxScaler()\n",
    "# min_max_train_df = min_max_scaler.fit_transform(train_df)\n",
    "# min_max_test_df = min_max_scaler.fit_transform(test_df)"
   ]
  },
  {
   "cell_type": "markdown",
   "metadata": {},
   "source": [
    "## Train various classifiers, using cross-validation to produce an accuracy score (Supplementary Figure XXX)"
   ]
  },
  {
   "cell_type": "code",
   "execution_count": 7,
   "metadata": {},
   "outputs": [],
   "source": [
    "NUM_SPLITS = 100 # number of train/test splits in cross validation"
   ]
  },
  {
   "cell_type": "code",
   "execution_count": 8,
   "metadata": {},
   "outputs": [],
   "source": [
    "import time"
   ]
  },
  {
   "cell_type": "markdown",
   "metadata": {},
   "source": [
    "### KNN"
   ]
  },
  {
   "cell_type": "code",
   "execution_count": 9,
   "metadata": {
    "scrolled": true
   },
   "outputs": [
    {
     "name": "stdout",
     "output_type": "stream",
     "text": [
      "accuracy: 0.47 (+/- 0.01)\n",
      "Runtime: 0.678450071811676 minutes\n"
     ]
    }
   ],
   "source": [
    "start = time.time()\n",
    "knn = cu.knn_model_crossval(df, labels, NUM_SPLITS)\n",
    "end = time.time()\n",
    "print(\"Runtime:\", (end - start)/60, \"minutes\")"
   ]
  },
  {
   "cell_type": "code",
   "execution_count": 10,
   "metadata": {},
   "outputs": [
    {
     "name": "stdout",
     "output_type": "stream",
     "text": [
      "accuracy: 0.70 (+/- 0.12)\n",
      "Runtime: 18.77475096384684 minutes\n"
     ]
    }
   ],
   "source": [
    "#MLP TESTING AREA\n",
    "start = time.time()\n",
    "mlp = cu.mlp_crossval(df, labels, NUM_SPLITS)\n",
    "end = time.time()\n",
    "print(\"Runtime:\", (end - start)/60, \"minutes\")"
   ]
  },
  {
   "cell_type": "markdown",
   "metadata": {},
   "source": [
    "### Logistic Regression"
   ]
  },
  {
   "cell_type": "code",
   "execution_count": 11,
   "metadata": {
    "scrolled": true
   },
   "outputs": [
    {
     "name": "stdout",
     "output_type": "stream",
     "text": [
      "accuracy: 0.76 (+/- 0.14)\n",
      "Runtime: 2.2132165749867756 minutes\n"
     ]
    }
   ],
   "source": [
    "start = time.time()\n",
    "lr = cu.logistic_regression_model_crossval(df, labels, NUM_SPLITS)\n",
    "end = time.time()\n",
    "print(\"Runtime:\", (end - start)/60, \"minutes\")"
   ]
  },
  {
   "cell_type": "markdown",
   "metadata": {},
   "source": [
    "### Naive Bayes\n",
    "* Gaussian\n",
    "* Multinomial"
   ]
  },
  {
   "cell_type": "code",
   "execution_count": 12,
   "metadata": {
    "scrolled": true
   },
   "outputs": [
    {
     "name": "stdout",
     "output_type": "stream",
     "text": [
      "accuracy: 0.69 (+/- 0.31)\n",
      "Runtime: 0.4798500140508016 minutes\n"
     ]
    }
   ],
   "source": [
    "start = time.time()\n",
    "gnb = cu.bayes_gaussian_model_crossval(df, labels, NUM_SPLITS)\n",
    "end = time.time()\n",
    "print(\"Runtime:\", (end - start)/60, \"minutes\")"
   ]
  },
  {
   "cell_type": "markdown",
   "metadata": {},
   "source": [
    "### SVC "
   ]
  },
  {
   "cell_type": "code",
   "execution_count": 13,
   "metadata": {
    "scrolled": true
   },
   "outputs": [
    {
     "name": "stdout",
     "output_type": "stream",
     "text": [
      "accuracy: 0.66 (+/- 0.11)\n",
      "Runtime: 2.273399996757507 minutes\n"
     ]
    }
   ],
   "source": [
    "start = time.time()\n",
    "svc = cu.SVC_model_crossval(df, labels, NUM_SPLITS)\n",
    "end = time.time()\n",
    "print(\"Runtime:\", (end - start)/60, \"minutes\")"
   ]
  },
  {
   "cell_type": "markdown",
   "metadata": {},
   "source": [
    "### Aggregations\n",
    "* Random Forest\n",
    "* Gradient Boosting"
   ]
  },
  {
   "cell_type": "code",
   "execution_count": 14,
   "metadata": {},
   "outputs": [
    {
     "name": "stdout",
     "output_type": "stream",
     "text": [
      "accuracy: 0.83 (+/- 0.14)\n",
      "Runtime: 0.29156659841537474 minutes\n"
     ]
    }
   ],
   "source": [
    "start = time.time()\n",
    "rf = cu.randomforest_model_crossval(df, labels, NUM_SPLITS)\n",
    "end = time.time()\n",
    "print(\"Runtime:\", (end - start)/60, \"minutes\")"
   ]
  },
  {
   "cell_type": "code",
   "execution_count": 15,
   "metadata": {},
   "outputs": [
    {
     "name": "stdout",
     "output_type": "stream",
     "text": [
      "accuracy: 0.75 (+/- 0.16)\n",
      "Runtime: 25.53506489197413 minutes\n"
     ]
    }
   ],
   "source": [
    "start = time.time()\n",
    "gbc = cu.gradient_boosting_crossval(df, labels, NUM_SPLITS)\n",
    "end = time.time()\n",
    "print(\"Runtime:\", (end - start)/60, \"minutes\")"
   ]
  },
  {
   "cell_type": "markdown",
   "metadata": {},
   "source": [
    "## Classify Training Set"
   ]
  },
  {
   "cell_type": "markdown",
   "metadata": {},
   "source": [
    "### Use models from notebook to predict new data"
   ]
  },
  {
   "cell_type": "code",
   "execution_count": 16,
   "metadata": {
    "scrolled": true
   },
   "outputs": [],
   "source": [
    "### This is commented out so that you do not call predictinos until you are done finalizing the training sets!!!\n",
    "### DO NOT RUN MORE THAN ONCE! THAT IS CHEATING MYREE!\n",
    "lr_pred = lr.predict(df_test)\n",
    "lr_result = lr.score(df_test, labels_test)\n",
    "\n",
    "rf_pred = rf.predict(df_test)\n",
    "rf_result = rf.score(df_test, labels_test)\n",
    "\n",
    "svc_pred = svc.predict(df_test)\n",
    "svc_result = svc.score(df_test, labels_test)\n",
    "\n",
    "gbc_pred = gbc.predict(df_test)\n",
    "gbc_result = gbc.score(df_test, labels_test)\n",
    "\n",
    "gnb_pred = gnb.predict(df_test)\n",
    "gnb_result = gnb.score(df_test, labels_test)\n",
    "\n",
    "knn_pred = knn.predict(df_test)\n",
    "knn_result = knn.score(df_test, labels_test)\n",
    "\n",
    "mlp_pred = mlp.predict(df_test)\n",
    "mlp_result = mlp.score(df_test, labels_test)"
   ]
  },
  {
   "cell_type": "code",
   "execution_count": 17,
   "metadata": {},
   "outputs": [
    {
     "name": "stdout",
     "output_type": "stream",
     "text": [
      "0.83\n",
      "0.77\n",
      "0.78\n",
      "0.76\n",
      "0.83\n",
      "0.53\n",
      "0.78\n"
     ]
    },
    {
     "data": {
      "text/html": [
       "<div>\n",
       "<style scoped>\n",
       "    .dataframe tbody tr th:only-of-type {\n",
       "        vertical-align: middle;\n",
       "    }\n",
       "\n",
       "    .dataframe tbody tr th {\n",
       "        vertical-align: top;\n",
       "    }\n",
       "\n",
       "    .dataframe thead th {\n",
       "        text-align: right;\n",
       "    }\n",
       "</style>\n",
       "<table border=\"1\" class=\"dataframe\">\n",
       "  <thead>\n",
       "    <tr style=\"text-align: right;\">\n",
       "      <th></th>\n",
       "      <th>score</th>\n",
       "      <th>learner</th>\n",
       "    </tr>\n",
       "  </thead>\n",
       "  <tbody>\n",
       "    <tr>\n",
       "      <th>0</th>\n",
       "      <td>0.83</td>\n",
       "      <td>Logistic Regression</td>\n",
       "    </tr>\n",
       "    <tr>\n",
       "      <th>1</th>\n",
       "      <td>0.77</td>\n",
       "      <td>Random Forest</td>\n",
       "    </tr>\n",
       "    <tr>\n",
       "      <th>2</th>\n",
       "      <td>0.78</td>\n",
       "      <td>SVC</td>\n",
       "    </tr>\n",
       "    <tr>\n",
       "      <th>3</th>\n",
       "      <td>0.76</td>\n",
       "      <td>GBC</td>\n",
       "    </tr>\n",
       "    <tr>\n",
       "      <th>4</th>\n",
       "      <td>0.83</td>\n",
       "      <td>Naive Bayes</td>\n",
       "    </tr>\n",
       "  </tbody>\n",
       "</table>\n",
       "</div>"
      ],
      "text/plain": [
       "   score              learner\n",
       "0   0.83  Logistic Regression\n",
       "1   0.77        Random Forest\n",
       "2   0.78                  SVC\n",
       "3   0.76                  GBC\n",
       "4   0.83          Naive Bayes"
      ]
     },
     "execution_count": 17,
     "metadata": {},
     "output_type": "execute_result"
    }
   ],
   "source": [
    "print(lr_result)\n",
    "#print(mnb_result)\n",
    "print(rf_result)\n",
    "print(svc_result)\n",
    "print(gbc_result)\n",
    "print(gnb_result)\n",
    "print(knn_result)\n",
    "print(mlp_result)\n",
    "results = [lr_result,rf_result,svc_result,gbc_result,gnb_result,knn_result,mlp_result]\n",
    "learners = ['Logistic Regression','Random Forest','SVC','GBC','Naive Bayes','KNN','MLP']\n",
    "final = pd.DataFrame({'score':results,'learner':learners})\n",
    "final.head()"
   ]
  },
  {
   "cell_type": "code",
   "execution_count": 19,
   "metadata": {},
   "outputs": [
    {
     "data": {
      "image/png": "[encoded data removed]",
      "text/plain": [
       "<matplotlib.figure.Figure at 0x211f2d59080>"
      ]
     },
     "metadata": {},
     "output_type": "display_data"
    }
   ],
   "source": [
    "import seaborn as sns\n",
    "sns.set(style=\"whitegrid\",rc={'figure.figsize':(11.7,8.27)})\n",
    "\n",
    "b = sns.barplot(data=final, x=\"learner\", y=\"score\")\n",
    "b.axes.set_title('Learner Test Accuracies on Random CNA Data',fontsize=30)\n",
    "b.set_xlabel(\"Machine Learning Model\",fontsize=20)\n",
    "b.set_ylabel(\"Accuracy\",fontsize=20)\n",
    "fig = b.get_figure()\n",
    "fig.savefig(\"dist-classification-accuracies-CNA-test.png\")"
   ]
  },
  {
   "cell_type": "code",
   "execution_count": null,
   "metadata": {},
   "outputs": [],
   "source": []
  }
 ],
 "metadata": {
  "kernelspec": {
   "display_name": "Python 3",
   "language": "python",
   "name": "python3"
  },
  "language_info": {
   "codemirror_mode": {
    "name": "ipython",
    "version": 3
   },
   "file_extension": ".py",
   "mimetype": "text/x-python",
   "name": "python",
   "nbconvert_exporter": "python",
   "pygments_lexer": "ipython3",
   "version": "3.6.5"
  },
  "toc": {
   "nav_menu": {},
   "number_sections": true,
   "sideBar": true,
   "skip_h1_title": true,
   "toc_cell": false,
   "toc_position": {},
   "toc_section_display": "block",
   "toc_window_display": false
  }
 },
 "nbformat": 4,
 "nbformat_minor": 1
}
