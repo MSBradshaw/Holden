{
 "cells": [
  {
   "cell_type": "markdown",
   "metadata": {},
   "source": [
    "# Building Classifiers"
   ]
  },
  {
   "cell_type": "code",
   "execution_count": 1,
   "metadata": {},
   "outputs": [],
   "source": [
    "import Classification_Utils as cu\n",
    "import numpy as np\n",
    "import pandas as pd\n",
    "from sklearn.model_selection import train_test_split\n",
    "from sklearn.preprocessing import MinMaxScaler, StandardScaler"
   ]
  },
  {
   "cell_type": "markdown",
   "metadata": {},
   "source": [
    "## Load and combine data from all tissues"
   ]
  },
  {
   "cell_type": "code",
   "execution_count": 2,
   "metadata": {
    "scrolled": true
   },
   "outputs": [
    {
     "name": "stdout",
     "output_type": "stream",
     "text": [
      "(82, 28058)\n",
      "(82, 28058)\n"
     ]
    }
   ],
   "source": [
    "df = pd.read_csv('../../Data/Distribution-Data-Set/train_transcriptomics_distribution.csv')\n",
    "df_test = pd.read_csv('../../Data/Distribution-Data-Set/test_transcriptomics_distribution.csv')\n",
    "print(df.shape)\n",
    "print(df_test.shape)"
   ]
  },
  {
   "cell_type": "code",
   "execution_count": 3,
   "metadata": {},
   "outputs": [
    {
     "data": {
      "text/html": [
       "<div>\n",
       "<style scoped>\n",
       "    .dataframe tbody tr th:only-of-type {\n",
       "        vertical-align: middle;\n",
       "    }\n",
       "\n",
       "    .dataframe tbody tr th {\n",
       "        vertical-align: top;\n",
       "    }\n",
       "\n",
       "    .dataframe thead th {\n",
       "        text-align: right;\n",
       "    }\n",
       "</style>\n",
       "<table border=\"1\" class=\"dataframe\">\n",
       "  <thead>\n",
       "    <tr style=\"text-align: right;\">\n",
       "      <th></th>\n",
       "      <th>A1BG</th>\n",
       "      <th>A1BG-AS1</th>\n",
       "      <th>A1CF</th>\n",
       "      <th>A2M</th>\n",
       "      <th>A2M-AS1</th>\n",
       "      <th>A2ML1</th>\n",
       "      <th>A2MP1</th>\n",
       "      <th>A3GALT2</th>\n",
       "      <th>A4GALT</th>\n",
       "      <th>A4GNT</th>\n",
       "      <th>...</th>\n",
       "      <th>ZWINT</th>\n",
       "      <th>ZXDA</th>\n",
       "      <th>ZXDB</th>\n",
       "      <th>ZXDC</th>\n",
       "      <th>ZYG11A</th>\n",
       "      <th>ZYG11B</th>\n",
       "      <th>ZYX</th>\n",
       "      <th>ZZEF1</th>\n",
       "      <th>ZZZ3</th>\n",
       "      <th>labels</th>\n",
       "    </tr>\n",
       "  </thead>\n",
       "  <tbody>\n",
       "    <tr>\n",
       "      <th>0</th>\n",
       "      <td>4.02</td>\n",
       "      <td>2.16</td>\n",
       "      <td>3.27</td>\n",
       "      <td>13.39</td>\n",
       "      <td>5.88</td>\n",
       "      <td>6.79</td>\n",
       "      <td>1.55</td>\n",
       "      <td>0.97</td>\n",
       "      <td>10.34</td>\n",
       "      <td>1.96</td>\n",
       "      <td>...</td>\n",
       "      <td>10.73</td>\n",
       "      <td>8.40</td>\n",
       "      <td>9.78</td>\n",
       "      <td>10.88</td>\n",
       "      <td>5.93</td>\n",
       "      <td>11.52</td>\n",
       "      <td>10.23</td>\n",
       "      <td>11.50</td>\n",
       "      <td>11.47</td>\n",
       "      <td>real</td>\n",
       "    </tr>\n",
       "    <tr>\n",
       "      <th>1</th>\n",
       "      <td>5.31</td>\n",
       "      <td>4.87</td>\n",
       "      <td>5.59</td>\n",
       "      <td>13.77</td>\n",
       "      <td>6.35</td>\n",
       "      <td>4.22</td>\n",
       "      <td>2.97</td>\n",
       "      <td>0.00</td>\n",
       "      <td>8.68</td>\n",
       "      <td>1.98</td>\n",
       "      <td>...</td>\n",
       "      <td>10.41</td>\n",
       "      <td>9.10</td>\n",
       "      <td>9.59</td>\n",
       "      <td>10.15</td>\n",
       "      <td>7.89</td>\n",
       "      <td>11.90</td>\n",
       "      <td>10.21</td>\n",
       "      <td>11.34</td>\n",
       "      <td>11.51</td>\n",
       "      <td>real</td>\n",
       "    </tr>\n",
       "    <tr>\n",
       "      <th>2</th>\n",
       "      <td>5.03</td>\n",
       "      <td>5.59</td>\n",
       "      <td>4.82</td>\n",
       "      <td>14.13</td>\n",
       "      <td>7.65</td>\n",
       "      <td>7.75</td>\n",
       "      <td>1.59</td>\n",
       "      <td>1.01</td>\n",
       "      <td>9.61</td>\n",
       "      <td>1.59</td>\n",
       "      <td>...</td>\n",
       "      <td>9.22</td>\n",
       "      <td>9.07</td>\n",
       "      <td>9.51</td>\n",
       "      <td>11.06</td>\n",
       "      <td>7.29</td>\n",
       "      <td>11.60</td>\n",
       "      <td>10.19</td>\n",
       "      <td>11.57</td>\n",
       "      <td>11.32</td>\n",
       "      <td>real</td>\n",
       "    </tr>\n",
       "    <tr>\n",
       "      <th>3</th>\n",
       "      <td>3.17</td>\n",
       "      <td>3.56</td>\n",
       "      <td>3.98</td>\n",
       "      <td>13.49</td>\n",
       "      <td>6.48</td>\n",
       "      <td>5.88</td>\n",
       "      <td>2.23</td>\n",
       "      <td>1.16</td>\n",
       "      <td>9.71</td>\n",
       "      <td>1.16</td>\n",
       "      <td>...</td>\n",
       "      <td>10.65</td>\n",
       "      <td>8.77</td>\n",
       "      <td>9.83</td>\n",
       "      <td>11.36</td>\n",
       "      <td>7.43</td>\n",
       "      <td>11.72</td>\n",
       "      <td>10.87</td>\n",
       "      <td>11.81</td>\n",
       "      <td>11.92</td>\n",
       "      <td>real</td>\n",
       "    </tr>\n",
       "    <tr>\n",
       "      <th>4</th>\n",
       "      <td>6.02</td>\n",
       "      <td>5.90</td>\n",
       "      <td>7.73</td>\n",
       "      <td>14.30</td>\n",
       "      <td>7.76</td>\n",
       "      <td>8.47</td>\n",
       "      <td>3.47</td>\n",
       "      <td>1.18</td>\n",
       "      <td>9.98</td>\n",
       "      <td>2.26</td>\n",
       "      <td>...</td>\n",
       "      <td>7.82</td>\n",
       "      <td>9.32</td>\n",
       "      <td>9.97</td>\n",
       "      <td>11.48</td>\n",
       "      <td>8.07</td>\n",
       "      <td>11.93</td>\n",
       "      <td>10.86</td>\n",
       "      <td>12.20</td>\n",
       "      <td>11.84</td>\n",
       "      <td>real</td>\n",
       "    </tr>\n",
       "  </tbody>\n",
       "</table>\n",
       "<p>5 rows × 28058 columns</p>\n",
       "</div>"
      ],
      "text/plain": [
       "   A1BG  A1BG-AS1  A1CF    A2M  A2M-AS1  A2ML1  A2MP1  A3GALT2  A4GALT  A4GNT  \\\n",
       "0  4.02      2.16  3.27  13.39     5.88   6.79   1.55     0.97   10.34   1.96   \n",
       "1  5.31      4.87  5.59  13.77     6.35   4.22   2.97     0.00    8.68   1.98   \n",
       "2  5.03      5.59  4.82  14.13     7.65   7.75   1.59     1.01    9.61   1.59   \n",
       "3  3.17      3.56  3.98  13.49     6.48   5.88   2.23     1.16    9.71   1.16   \n",
       "4  6.02      5.90  7.73  14.30     7.76   8.47   3.47     1.18    9.98   2.26   \n",
       "\n",
       "    ...    ZWINT  ZXDA  ZXDB   ZXDC  ZYG11A  ZYG11B    ZYX  ZZEF1   ZZZ3  \\\n",
       "0   ...    10.73  8.40  9.78  10.88    5.93   11.52  10.23  11.50  11.47   \n",
       "1   ...    10.41  9.10  9.59  10.15    7.89   11.90  10.21  11.34  11.51   \n",
       "2   ...     9.22  9.07  9.51  11.06    7.29   11.60  10.19  11.57  11.32   \n",
       "3   ...    10.65  8.77  9.83  11.36    7.43   11.72  10.87  11.81  11.92   \n",
       "4   ...     7.82  9.32  9.97  11.48    8.07   11.93  10.86  12.20  11.84   \n",
       "\n",
       "   labels  \n",
       "0    real  \n",
       "1    real  \n",
       "2    real  \n",
       "3    real  \n",
       "4    real  \n",
       "\n",
       "[5 rows x 28058 columns]"
      ]
     },
     "execution_count": 3,
     "metadata": {},
     "output_type": "execute_result"
    }
   ],
   "source": [
    "df.head()\n",
    "df_test.head()"
   ]
  },
  {
   "cell_type": "markdown",
   "metadata": {},
   "source": [
    "## Map each column to a corresponding label"
   ]
  },
  {
   "cell_type": "code",
   "execution_count": 4,
   "metadata": {},
   "outputs": [
    {
     "data": {
      "text/html": [
       "<div>\n",
       "<style scoped>\n",
       "    .dataframe tbody tr th:only-of-type {\n",
       "        vertical-align: middle;\n",
       "    }\n",
       "\n",
       "    .dataframe tbody tr th {\n",
       "        vertical-align: top;\n",
       "    }\n",
       "\n",
       "    .dataframe thead th {\n",
       "        text-align: right;\n",
       "    }\n",
       "</style>\n",
       "<table border=\"1\" class=\"dataframe\">\n",
       "  <thead>\n",
       "    <tr style=\"text-align: right;\">\n",
       "      <th></th>\n",
       "      <th>A1BG</th>\n",
       "      <th>A1BG-AS1</th>\n",
       "      <th>A1CF</th>\n",
       "      <th>A2M</th>\n",
       "      <th>A2M-AS1</th>\n",
       "      <th>A2ML1</th>\n",
       "      <th>A2MP1</th>\n",
       "      <th>A3GALT2</th>\n",
       "      <th>A4GALT</th>\n",
       "      <th>A4GNT</th>\n",
       "      <th>...</th>\n",
       "      <th>ZWILCH</th>\n",
       "      <th>ZWINT</th>\n",
       "      <th>ZXDA</th>\n",
       "      <th>ZXDB</th>\n",
       "      <th>ZXDC</th>\n",
       "      <th>ZYG11A</th>\n",
       "      <th>ZYG11B</th>\n",
       "      <th>ZYX</th>\n",
       "      <th>ZZEF1</th>\n",
       "      <th>ZZZ3</th>\n",
       "    </tr>\n",
       "  </thead>\n",
       "  <tbody>\n",
       "    <tr>\n",
       "      <th>0</th>\n",
       "      <td>4.02</td>\n",
       "      <td>2.16</td>\n",
       "      <td>3.27</td>\n",
       "      <td>13.39</td>\n",
       "      <td>5.88</td>\n",
       "      <td>6.79</td>\n",
       "      <td>1.55</td>\n",
       "      <td>0.97</td>\n",
       "      <td>10.34</td>\n",
       "      <td>1.96</td>\n",
       "      <td>...</td>\n",
       "      <td>11.06</td>\n",
       "      <td>10.73</td>\n",
       "      <td>8.40</td>\n",
       "      <td>9.78</td>\n",
       "      <td>10.88</td>\n",
       "      <td>5.93</td>\n",
       "      <td>11.52</td>\n",
       "      <td>10.23</td>\n",
       "      <td>11.50</td>\n",
       "      <td>11.47</td>\n",
       "    </tr>\n",
       "    <tr>\n",
       "      <th>1</th>\n",
       "      <td>5.31</td>\n",
       "      <td>4.87</td>\n",
       "      <td>5.59</td>\n",
       "      <td>13.77</td>\n",
       "      <td>6.35</td>\n",
       "      <td>4.22</td>\n",
       "      <td>2.97</td>\n",
       "      <td>0.00</td>\n",
       "      <td>8.68</td>\n",
       "      <td>1.98</td>\n",
       "      <td>...</td>\n",
       "      <td>10.29</td>\n",
       "      <td>10.41</td>\n",
       "      <td>9.10</td>\n",
       "      <td>9.59</td>\n",
       "      <td>10.15</td>\n",
       "      <td>7.89</td>\n",
       "      <td>11.90</td>\n",
       "      <td>10.21</td>\n",
       "      <td>11.34</td>\n",
       "      <td>11.51</td>\n",
       "    </tr>\n",
       "    <tr>\n",
       "      <th>2</th>\n",
       "      <td>5.03</td>\n",
       "      <td>5.59</td>\n",
       "      <td>4.82</td>\n",
       "      <td>14.13</td>\n",
       "      <td>7.65</td>\n",
       "      <td>7.75</td>\n",
       "      <td>1.59</td>\n",
       "      <td>1.01</td>\n",
       "      <td>9.61</td>\n",
       "      <td>1.59</td>\n",
       "      <td>...</td>\n",
       "      <td>9.23</td>\n",
       "      <td>9.22</td>\n",
       "      <td>9.07</td>\n",
       "      <td>9.51</td>\n",
       "      <td>11.06</td>\n",
       "      <td>7.29</td>\n",
       "      <td>11.60</td>\n",
       "      <td>10.19</td>\n",
       "      <td>11.57</td>\n",
       "      <td>11.32</td>\n",
       "    </tr>\n",
       "    <tr>\n",
       "      <th>3</th>\n",
       "      <td>3.17</td>\n",
       "      <td>3.56</td>\n",
       "      <td>3.98</td>\n",
       "      <td>13.49</td>\n",
       "      <td>6.48</td>\n",
       "      <td>5.88</td>\n",
       "      <td>2.23</td>\n",
       "      <td>1.16</td>\n",
       "      <td>9.71</td>\n",
       "      <td>1.16</td>\n",
       "      <td>...</td>\n",
       "      <td>10.56</td>\n",
       "      <td>10.65</td>\n",
       "      <td>8.77</td>\n",
       "      <td>9.83</td>\n",
       "      <td>11.36</td>\n",
       "      <td>7.43</td>\n",
       "      <td>11.72</td>\n",
       "      <td>10.87</td>\n",
       "      <td>11.81</td>\n",
       "      <td>11.92</td>\n",
       "    </tr>\n",
       "    <tr>\n",
       "      <th>4</th>\n",
       "      <td>6.02</td>\n",
       "      <td>5.90</td>\n",
       "      <td>7.73</td>\n",
       "      <td>14.30</td>\n",
       "      <td>7.76</td>\n",
       "      <td>8.47</td>\n",
       "      <td>3.47</td>\n",
       "      <td>1.18</td>\n",
       "      <td>9.98</td>\n",
       "      <td>2.26</td>\n",
       "      <td>...</td>\n",
       "      <td>9.46</td>\n",
       "      <td>7.82</td>\n",
       "      <td>9.32</td>\n",
       "      <td>9.97</td>\n",
       "      <td>11.48</td>\n",
       "      <td>8.07</td>\n",
       "      <td>11.93</td>\n",
       "      <td>10.86</td>\n",
       "      <td>12.20</td>\n",
       "      <td>11.84</td>\n",
       "    </tr>\n",
       "  </tbody>\n",
       "</table>\n",
       "<p>5 rows × 28057 columns</p>\n",
       "</div>"
      ],
      "text/plain": [
       "   A1BG  A1BG-AS1  A1CF    A2M  A2M-AS1  A2ML1  A2MP1  A3GALT2  A4GALT  A4GNT  \\\n",
       "0  4.02      2.16  3.27  13.39     5.88   6.79   1.55     0.97   10.34   1.96   \n",
       "1  5.31      4.87  5.59  13.77     6.35   4.22   2.97     0.00    8.68   1.98   \n",
       "2  5.03      5.59  4.82  14.13     7.65   7.75   1.59     1.01    9.61   1.59   \n",
       "3  3.17      3.56  3.98  13.49     6.48   5.88   2.23     1.16    9.71   1.16   \n",
       "4  6.02      5.90  7.73  14.30     7.76   8.47   3.47     1.18    9.98   2.26   \n",
       "\n",
       "   ...    ZWILCH  ZWINT  ZXDA  ZXDB   ZXDC  ZYG11A  ZYG11B    ZYX  ZZEF1  \\\n",
       "0  ...     11.06  10.73  8.40  9.78  10.88    5.93   11.52  10.23  11.50   \n",
       "1  ...     10.29  10.41  9.10  9.59  10.15    7.89   11.90  10.21  11.34   \n",
       "2  ...      9.23   9.22  9.07  9.51  11.06    7.29   11.60  10.19  11.57   \n",
       "3  ...     10.56  10.65  8.77  9.83  11.36    7.43   11.72  10.87  11.81   \n",
       "4  ...      9.46   7.82  9.32  9.97  11.48    8.07   11.93  10.86  12.20   \n",
       "\n",
       "    ZZZ3  \n",
       "0  11.47  \n",
       "1  11.51  \n",
       "2  11.32  \n",
       "3  11.92  \n",
       "4  11.84  \n",
       "\n",
       "[5 rows x 28057 columns]"
      ]
     },
     "execution_count": 4,
     "metadata": {},
     "output_type": "execute_result"
    }
   ],
   "source": [
    "column_names = df.columns.values.tolist()\n",
    "#seporate labels from the main data\n",
    "labels = df['labels']\n",
    "df = df.drop(columns=['labels'])\n",
    "#impute the NA with 0\n",
    "df = df.fillna(0)\n",
    "\n",
    "labels_test = df_test['labels']\n",
    "df_test = df_test.drop(columns=['labels'])\n",
    "#impute the NA with 0\n",
    "df_test = df_test.fillna(0)\n",
    "\n",
    "df.head()\n",
    "df_test.head()"
   ]
  },
  {
   "cell_type": "markdown",
   "metadata": {},
   "source": [
    "## Make train-test split"
   ]
  },
  {
   "cell_type": "code",
   "execution_count": 5,
   "metadata": {},
   "outputs": [],
   "source": [
    "# train_df, test_df, train_labels, test_labels = train_test_split(\n",
    "#     df, labels, \n",
    "#     test_size=0.00,    # 30% of the data held out in test set\n",
    "#     random_state=0,    # Setting random_state ensures the same train/test split occurs each time this is run\n",
    "#     stratify=labels)   # Maintain ratio of tissues represented in each set\n",
    "\n",
    "# train_features = train_df.columns.values.tolist()"
   ]
  },
  {
   "cell_type": "code",
   "execution_count": 6,
   "metadata": {},
   "outputs": [],
   "source": [
    "# std_scaler = StandardScaler()\n",
    "# train_df = std_scaler.fit_transform(train_df)\n",
    "# test_df = std_scaler.fit_transform(test_df)\n",
    "\n",
    "# min_max_scaler = MinMaxScaler()\n",
    "# min_max_train_df = min_max_scaler.fit_transform(train_df)\n",
    "# min_max_test_df = min_max_scaler.fit_transform(test_df)"
   ]
  },
  {
   "cell_type": "markdown",
   "metadata": {},
   "source": [
    "## Train various classifiers, using cross-validation to produce an accuracy score (Supplementary Figure XXX)"
   ]
  },
  {
   "cell_type": "code",
   "execution_count": 7,
   "metadata": {},
   "outputs": [],
   "source": [
    "NUM_SPLITS = 100 # number of train/test splits in cross validation"
   ]
  },
  {
   "cell_type": "code",
   "execution_count": 8,
   "metadata": {},
   "outputs": [],
   "source": [
    "import time"
   ]
  },
  {
   "cell_type": "markdown",
   "metadata": {},
   "source": [
    "### KNN"
   ]
  },
  {
   "cell_type": "code",
   "execution_count": 9,
   "metadata": {
    "scrolled": true
   },
   "outputs": [
    {
     "name": "stdout",
     "output_type": "stream",
     "text": [
      "accuracy: 0.99 (+/- 0.03)\n",
      "Runtime: 0.44481664498647056 minutes\n"
     ]
    }
   ],
   "source": [
    "start = time.time()\n",
    "knn = cu.knn_model_crossval(df, labels, NUM_SPLITS)\n",
    "end = time.time()\n",
    "print(\"Runtime:\", (end - start)/60, \"minutes\")"
   ]
  },
  {
   "cell_type": "code",
   "execution_count": null,
   "metadata": {},
   "outputs": [],
   "source": [
    "#MLP TESTING AREA\n",
    "start = time.time()\n",
    "mlp = cu.mlp_crossval(df, labels, NUM_SPLITS)\n",
    "end = time.time()\n",
    "print(\"Runtime:\", (end - start)/60, \"minutes\")"
   ]
  },
  {
   "cell_type": "markdown",
   "metadata": {},
   "source": [
    "### Logistic Regression"
   ]
  },
  {
   "cell_type": "code",
   "execution_count": null,
   "metadata": {
    "scrolled": true
   },
   "outputs": [],
   "source": [
    "start = time.time()\n",
    "lr = cu.logistic_regression_model_crossval(df, labels, NUM_SPLITS)\n",
    "end = time.time()\n",
    "print(\"Runtime:\", (end - start)/60, \"minutes\")"
   ]
  },
  {
   "cell_type": "markdown",
   "metadata": {},
   "source": [
    "### Naive Bayes\n",
    "* Gaussian\n",
    "* Multinomial"
   ]
  },
  {
   "cell_type": "code",
   "execution_count": null,
   "metadata": {
    "scrolled": true
   },
   "outputs": [],
   "source": [
    "start = time.time()\n",
    "gnb = cu.bayes_gaussian_model_crossval(df, labels, NUM_SPLITS)\n",
    "end = time.time()\n",
    "print(\"Runtime:\", (end - start)/60, \"minutes\")"
   ]
  },
  {
   "cell_type": "markdown",
   "metadata": {},
   "source": [
    "### SVC "
   ]
  },
  {
   "cell_type": "code",
   "execution_count": null,
   "metadata": {
    "scrolled": true
   },
   "outputs": [],
   "source": [
    "start = time.time()\n",
    "svc = cu.SVC_model_crossval(df, labels, NUM_SPLITS)\n",
    "end = time.time()\n",
    "print(\"Runtime:\", (end - start)/60, \"minutes\")"
   ]
  },
  {
   "cell_type": "markdown",
   "metadata": {},
   "source": [
    "### Aggregations\n",
    "* Random Forest\n",
    "* Gradient Boosting"
   ]
  },
  {
   "cell_type": "code",
   "execution_count": null,
   "metadata": {},
   "outputs": [],
   "source": [
    "start = time.time()\n",
    "rf = cu.randomforest_model_crossval(df, labels, NUM_SPLITS)\n",
    "end = time.time()\n",
    "print(\"Runtime:\", (end - start)/60, \"minutes\")"
   ]
  },
  {
   "cell_type": "code",
   "execution_count": null,
   "metadata": {},
   "outputs": [],
   "source": [
    "start = time.time()\n",
    "gbc = cu.gradient_boosting_crossval(df, labels, NUM_SPLITS)\n",
    "end = time.time()\n",
    "print(\"Runtime:\", (end - start)/60, \"minutes\")"
   ]
  },
  {
   "cell_type": "markdown",
   "metadata": {},
   "source": [
    "## Classify Training Set"
   ]
  },
  {
   "cell_type": "markdown",
   "metadata": {},
   "source": [
    "### Use models from notebook to predict new data"
   ]
  },
  {
   "cell_type": "code",
   "execution_count": 16,
   "metadata": {
    "scrolled": true
   },
   "outputs": [],
   "source": [
    "### This is commented out so that you do not call predictinos until you are done finalizing the training sets!!!\n",
    "### DO NOT RUN MORE THAN ONCE! THAT IS CHEATING MYREE!\n",
    "# lr_pred = lr.predict(df_test)\n",
    "# lr_result = lr.score(df_test, labels_test)\n",
    "\n",
    "# rf_pred = rf.predict(df_test)\n",
    "# rf_result = rf.score(df_test, labels_test)\n",
    "\n",
    "# svc_pred = svc.predict(df_test)\n",
    "# svc_result = svc.score(df_test, labels_test)\n",
    "\n",
    "# gbc_pred = gbc.predict(df_test)\n",
    "# gbc_result = gbc.score(df_test, labels_test)\n",
    "\n",
    "# gnb_pred = gnb.predict(df_test)\n",
    "# gnb_result = gnb.score(df_test, labels_test)\n",
    "\n",
    "# knn_pred = knn.predict(df_test)\n",
    "# knn_result = knn.score(df_test, labels_test)\n",
    "\n",
    "# mlp_pred = mlp.predict(df_test)\n",
    "# mlp_result = mlp.score(df_test, labels_test)"
   ]
  },
  {
   "cell_type": "code",
   "execution_count": 17,
   "metadata": {},
   "outputs": [
    {
     "ename": "NameError",
     "evalue": "name 'lr_result' is not defined",
     "output_type": "error",
     "traceback": [
      "\u001b[1;31m---------------------------------------------------------------------------\u001b[0m",
      "\u001b[1;31mNameError\u001b[0m                                 Traceback (most recent call last)",
      "\u001b[1;32m<ipython-input-17-24725fc9ea40>\u001b[0m in \u001b[0;36m<module>\u001b[1;34m()\u001b[0m\n\u001b[1;32m----> 1\u001b[1;33m \u001b[0mprint\u001b[0m\u001b[1;33m(\u001b[0m\u001b[0mlr_result\u001b[0m\u001b[1;33m)\u001b[0m\u001b[1;33m\u001b[0m\u001b[0m\n\u001b[0m\u001b[0;32m      2\u001b[0m \u001b[1;31m#print(mnb_result)\u001b[0m\u001b[1;33m\u001b[0m\u001b[1;33m\u001b[0m\u001b[0m\n\u001b[0;32m      3\u001b[0m \u001b[0mprint\u001b[0m\u001b[1;33m(\u001b[0m\u001b[0mrf_result\u001b[0m\u001b[1;33m)\u001b[0m\u001b[1;33m\u001b[0m\u001b[0m\n\u001b[0;32m      4\u001b[0m \u001b[0mprint\u001b[0m\u001b[1;33m(\u001b[0m\u001b[0msvc_result\u001b[0m\u001b[1;33m)\u001b[0m\u001b[1;33m\u001b[0m\u001b[0m\n\u001b[0;32m      5\u001b[0m \u001b[0mprint\u001b[0m\u001b[1;33m(\u001b[0m\u001b[0mgbc_result\u001b[0m\u001b[1;33m)\u001b[0m\u001b[1;33m\u001b[0m\u001b[0m\n",
      "\u001b[1;31mNameError\u001b[0m: name 'lr_result' is not defined"
     ]
    }
   ],
   "source": [
    "print(lr_result)\n",
    "#print(mnb_result)\n",
    "print(rf_result)\n",
    "print(svc_result)\n",
    "print(gbc_result)\n",
    "print(gnb_result)\n",
    "print(knn_result)\n",
    "print(mlp_result)\n",
    "results = [lr_result,rf_result,svc_result,gbc_result,gnb_result,knn_result,mlp_result]\n",
    "learners = ['Logistic Regression','Random Forest','SVC','GBC','Naive Bayes','KNN','MLP']\n",
    "final = pd.DataFrame({'score':results,'learner':learners})\n",
    "final.head()"
   ]
  },
  {
   "cell_type": "code",
   "execution_count": null,
   "metadata": {},
   "outputs": [],
   "source": [
    "import seaborn as sns\n",
    "sns.set(style=\"whitegrid\",rc={'figure.figsize':(11.7,8.27)})\n",
    "\n",
    "b = sns.barplot(data=final, x=\"learner\", y=\"score\")\n",
    "b.axes.set_title('Learner Test Accuracies on Random Data',fontsize=30)\n",
    "b.set_xlabel(\"Machine Learning Model\",fontsize=20)\n",
    "b.set_ylabel(\"Accuracy\",fontsize=20)\n",
    "fig = b.get_figure()\n",
    "fig.savefig(\"random-classification-accuracies-test.png\")"
   ]
  },
  {
   "cell_type": "code",
   "execution_count": null,
   "metadata": {},
   "outputs": [],
   "source": []
  }
 ],
 "metadata": {
  "kernelspec": {
   "display_name": "Python 3",
   "language": "python",
   "name": "python3"
  },
  "language_info": {
   "codemirror_mode": {
    "name": "ipython",
    "version": 3
   },
   "file_extension": ".py",
   "mimetype": "text/x-python",
   "name": "python",
   "nbconvert_exporter": "python",
   "pygments_lexer": "ipython3",
   "version": "3.6.5"
  },
  "toc": {
   "nav_menu": {},
   "number_sections": true,
   "sideBar": true,
   "skip_h1_title": true,
   "toc_cell": false,
   "toc_position": {},
   "toc_section_display": "block",
   "toc_window_display": false
  }
 },
 "nbformat": 4,
 "nbformat_minor": 1
}
